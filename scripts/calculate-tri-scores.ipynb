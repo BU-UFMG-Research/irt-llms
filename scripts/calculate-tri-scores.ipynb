{
 "cells": [
  {
   "cell_type": "code",
   "execution_count": 13,
   "id": "ba7eb989-df54-457f-8a7d-922c89e7a953",
   "metadata": {},
   "outputs": [
    {
     "name": "stdout",
     "output_type": "stream",
     "text": [
      "R Worked!\n"
     ]
    }
   ],
   "source": [
    "# TESTS THAT INTEGRATION WITH R WORKS\n",
    "# https://github.com/rpy2/rpy2/issues/1018\n",
    "# C:\\Users\\pedro\\AppData\\Local\\Packages\\PythonSoftwareFoundation.Python.3.11_qbz5n2kfra8p0\\LocalCache\\local-packages\\Python311\\site-packages\\rpy2\n",
    "\n",
    "from rpy2 import situation\n",
    "import os\n",
    "\n",
    "try:\n",
    "    import rpy2.robjects as robjects\n",
    "except OSError as e:\n",
    "    try:\n",
    "        import os\n",
    "        import platform\n",
    "        \n",
    "        r_home = situation.r_home_from_registry()\n",
    "        r_bin = r_home + '\\\\bin\\\\x64\\\\'\n",
    "        os.environ['R_HOME'] = r_home\n",
    "        os.environ['PATH'] =  r_bin + \";\" + os.environ['PATH']\n",
    "        os.add_dll_directory(r_bin)\n",
    "\n",
    "        print('R_HOME', r_home)\n",
    "        import rpy2.robjects as robjects\n",
    "    except OSError:\n",
    "        raise(e)\n",
    "\n",
    "print(\"R Worked!\")"
   ]
  },
  {
   "cell_type": "code",
   "execution_count": 14,
   "id": "ec56a9ab-717e-408e-bd77-ac4d9a0f1ce3",
   "metadata": {},
   "outputs": [],
   "source": [
    "import pandas as pd\n",
    "\n",
    "def compute_theta(filepath):\n",
    "\n",
    "    # Read the content of the R script file\n",
    "    r_script_file = \"test.R\"\n",
    "    with open(r_script_file, 'r') as file:\n",
    "        r_script = file.read()\n",
    "\n",
    "    robjects.r.assign('response_pattern_filepath', f\"{filepath}/responses/samples.csv\")\n",
    "    robjects.r.assign('theta_file', f\"{filepath}/responses/samples_with_theta.csv\")\n",
    "    robjects.r(r_script)\n",
    "\n",
    "    robjects.r.assign('response_pattern_filepath', f\"{filepath}/responses/random_samples.csv\")\n",
    "    robjects.r.assign('theta_file', f\"{filepath}/responses/random_samples_with_theta.csv\")\n",
    "    robjects.r(r_script)\n",
    "\n",
    "    thetas_df = pd.read_csv(f\"{filepath}/responses/samples_with_theta.csv\")\n",
    "    thetas_random_df = pd.read_csv(f\"{filepath}/responses/random_samples_with_theta.csv\")\n",
    "    print(\"thetas.csv finished! rows:\", thetas_df.shape[0])\n",
    "\n",
    "    average_df = thetas_df.groupby('CTT_SCORE')['IRT_SCORE'].mean().reset_index()\n",
    "    average_random_df = thetas_random_df.groupby('CTT_SCORE')['IRT_SCORE'].mean().reset_index()\n",
    "    \n",
    "    return thetas_df, average_df, thetas_random_df, average_random_df"
   ]
  },
  {
   "cell_type": "code",
   "execution_count": 15,
   "id": "f3ea9ed9-55ef-4599-a33e-71dfbac58f05",
   "metadata": {},
   "outputs": [
    {
     "name": "stdout",
     "output_type": "stream",
     "text": [
      "file_name exp_CH_mistral_bits_4_count_120.zip\n",
      "Files extracted to: C:/Users/pedro/Downloads/TRI/test_responses_llms//exp_CH_mistral_bits_4_count_120_with_irt\n",
      "[1]b' \"\\x02\\xff\\xfeRunning...\\x03\\xff\\xfe\"'\n",
      "[1]b' \"\\x02\\xff\\xfeLoaded item params\\x03\\xff\\xfe\"'\n",
      "[1]b' \"\\x02\\xff\\xfemirt_params.csv Written.\\x03\\xff\\xfe\"'\n",
      "[1]b' \"\\x02\\xff\\xfeLoading response patterns...\\x03\\xff\\xfe\"'\n",
      "[1]b' \"\\x02\\xff\\xfeLOADED MODEL\\x03\\xff\\xfe\"'\n",
      "[1]b' \"\\x02\\xff\\xfeRunning...\\x03\\xff\\xfe\"'\n",
      "[1]b' \"\\x02\\xff\\xfeLoaded item params\\x03\\xff\\xfe\"'\n",
      "[1]b' \"\\x02\\xff\\xfemirt_params.csv Written.\\x03\\xff\\xfe\"'\n",
      "[1]b' \"\\x02\\xff\\xfeLoading response patterns...\\x03\\xff\\xfe\"'\n",
      "[1]b' \"\\x02\\xff\\xfeLOADED MODEL\\x03\\xff\\xfe\"'\n",
      "thetas.csv finished! rows: 30000\n",
      "file_name exp_CH_mistral_bits_4_count_120_with_irt\n",
      "file_name exp_CH_phi2_bits_4_count_10.zip\n",
      "Files extracted to: C:/Users/pedro/Downloads/TRI/test_responses_llms//exp_CH_phi2_bits_4_count_10_with_irt\n",
      "[1]b' \"\\x02\\xff\\xfeRunning...\\x03\\xff\\xfe\"'\n",
      "[1]b' \"\\x02\\xff\\xfeLoaded item params\\x03\\xff\\xfe\"'\n",
      "[1]b' \"\\x02\\xff\\xfemirt_params.csv Written.\\x03\\xff\\xfe\"'\n",
      "[1]b' \"\\x02\\xff\\xfeLoading response patterns...\\x03\\xff\\xfe\"'\n",
      "[1]b' \"\\x02\\xff\\xfeLOADED MODEL\\x03\\xff\\xfe\"'\n",
      "[1]b' \"\\x02\\xff\\xfeRunning...\\x03\\xff\\xfe\"'\n",
      "[1]b' \"\\x02\\xff\\xfeLoaded item params\\x03\\xff\\xfe\"'\n",
      "[1]b' \"\\x02\\xff\\xfemirt_params.csv Written.\\x03\\xff\\xfe\"'\n",
      "[1]b' \"\\x02\\xff\\xfeLoading response patterns...\\x03\\xff\\xfe\"'\n",
      "[1]b' \"\\x02\\xff\\xfeLOADED MODEL\\x03\\xff\\xfe\"'\n",
      "thetas.csv finished! rows: 30000\n",
      "file_name exp_CH_phi2_bits_4_count_10_with_irt\n",
      "file_name exp_MT_mistral_bits_4_count_10.zip\n",
      "Files extracted to: C:/Users/pedro/Downloads/TRI/test_responses_llms//exp_MT_mistral_bits_4_count_10_with_irt\n",
      "[1]b' \"\\x02\\xff\\xfeRunning...\\x03\\xff\\xfe\"'\n",
      "[1]b' \"\\x02\\xff\\xfeLoaded item params\\x03\\xff\\xfe\"'\n",
      "[1]b' \"\\x02\\xff\\xfemirt_params.csv Written.\\x03\\xff\\xfe\"'\n",
      "[1]b' \"\\x02\\xff\\xfeLoading response patterns...\\x03\\xff\\xfe\"'\n",
      "[1]b' \"\\x02\\xff\\xfeLOADED MODEL\\x03\\xff\\xfe\"'\n",
      "[1]b' \"\\x02\\xff\\xfeRunning...\\x03\\xff\\xfe\"'\n",
      "[1]b' \"\\x02\\xff\\xfeLoaded item params\\x03\\xff\\xfe\"'\n",
      "[1]b' \"\\x02\\xff\\xfemirt_params.csv Written.\\x03\\xff\\xfe\"'\n",
      "[1]b' \"\\x02\\xff\\xfeLoading response patterns...\\x03\\xff\\xfe\"'\n",
      "[1]b' \"\\x02\\xff\\xfeLOADED MODEL\\x03\\xff\\xfe\"'\n",
      "thetas.csv finished! rows: 30000\n"
     ]
    }
   ],
   "source": [
    "import os\n",
    "import zipfile\n",
    "import tempfile\n",
    "import random\n",
    "import string\n",
    "\n",
    "def compute_everything(directory):\n",
    "    # Get a list of all files in the specified directory\n",
    "    file_list = os.listdir(directory)\n",
    "\n",
    "    for file_name in file_list:\n",
    "        print('file_name', file_name)\n",
    "        # Check if the file is a zip file\n",
    "        if file_name.endswith(\".zip\") and \"with_irt\" not in file_name:\n",
    "            zip_path = os.path.join(directory, file_name)\n",
    "\n",
    "            final_dir = directory + \"/\" + file_name.split(\".zip\")[0] + \"_with_irt\"\n",
    "            \n",
    "            # Create a ZipFile object\n",
    "            with zipfile.ZipFile(zip_path, 'r') as zip_ref:\n",
    "                # Extract the contents to the temporary directory\n",
    "                zip_ref.extractall(final_dir)\n",
    "                print(f\"Files extracted to: {final_dir}\")\n",
    "                \n",
    "                thetas_df, average_df, thetas_random_df, average_random_df = compute_theta(final_dir)\n",
    "                average_df.to_csv(final_dir + \"/responses/average_theta_by_score_sample.csv\")\n",
    "                average_random_df.to_csv(final_dir + \"/responses/average_theta_by_score_random_sample.csv\")\n",
    "\n",
    "# Example usage:\n",
    "directory_path = \"C:/Users/pedro/Downloads/TRI/test_responses_llms/\"\n",
    "compute_everything(directory_path)\n"
   ]
  },
  {
   "cell_type": "code",
   "execution_count": null,
   "id": "d9a6edff-40ad-4575-8bc4-64bc6d914e77",
   "metadata": {},
   "outputs": [],
   "source": []
  }
 ],
 "metadata": {
  "kernelspec": {
   "display_name": "Python 3 (ipykernel)",
   "language": "python",
   "name": "python3"
  },
  "language_info": {
   "codemirror_mode": {
    "name": "ipython",
    "version": 3
   },
   "file_extension": ".py",
   "mimetype": "text/x-python",
   "name": "python",
   "nbconvert_exporter": "python",
   "pygments_lexer": "ipython3",
   "version": "3.11.7"
  }
 },
 "nbformat": 4,
 "nbformat_minor": 5
}
