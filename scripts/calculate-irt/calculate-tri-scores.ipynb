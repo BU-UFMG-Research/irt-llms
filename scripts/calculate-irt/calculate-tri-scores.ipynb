{
 "cells": [
  {
   "cell_type": "code",
   "execution_count": 31,
   "id": "ba7eb989-df54-457f-8a7d-922c89e7a953",
   "metadata": {},
   "outputs": [
    {
     "name": "stdout",
     "output_type": "stream",
     "text": [
      "Testing that R works from within Python using rpy2...\n",
      "R Worked from within Python using rpy2! You're good to go.\n"
     ]
    }
   ],
   "source": [
    "# I had to do this adaptation to make rpy2 work:\n",
    "# https://github.com/rpy2/rpy2/issues/1018\n",
    "# C:\\Users\\pedro\\AppData\\Local\\Packages\\PythonSoftwareFoundation.Python.3.11_qbz5n2kfra8p0\\LocalCache\\local-packages\\Python311\\site-packages\\rpy2\n",
    "\n",
    "from rpy2 import situation\n",
    "import os\n",
    "\n",
    "print(\"Testing that R works from within Python using rpy2...\")\n",
    "\n",
    "try:\n",
    "    import rpy2.robjects as robjects\n",
    "except OSError as e:\n",
    "    try:\n",
    "        import os\n",
    "        import platform\n",
    "        \n",
    "        r_home = situation.r_home_from_registry()\n",
    "        r_bin = r_home + '\\\\bin\\\\x64\\\\'\n",
    "        os.environ['R_HOME'] = r_home\n",
    "        os.environ['PATH'] =  r_bin + \";\" + os.environ['PATH']\n",
    "        os.add_dll_directory(r_bin)\n",
    "\n",
    "        print('R_HOME', r_home)\n",
    "        import rpy2.robjects as robjects\n",
    "    except OSError:\n",
    "        raise(e)\n",
    "\n",
    "print(\"R Worked from within Python using rpy2! You're good to go.\")"
   ]
  },
  {
   "cell_type": "code",
   "execution_count": 32,
   "id": "b63372ff-e4c4-47e9-83ee-5d40be427365",
   "metadata": {},
   "outputs": [
    {
     "name": "stdout",
     "output_type": "stream",
     "text": [
      "To compute IRT thetas, we need to have the original ENEM microdata data available.\n",
      "Download ENEM microdata from https://www.gov.br/inep/pt-br/acesso-a-informacao/dados-abertos/microdados/enem.\n",
      "ENEM microdata for year 2019 found!\n",
      "ENEM microdata for year 2020 found!\n",
      "ENEM microdata for year 2021 found!\n",
      "ENEM microdata for year 2022 found!\n"
     ]
    }
   ],
   "source": [
    "import os\n",
    "\n",
    "print(\"To compute IRT thetas, we need to have the original ENEM microdata data available.\")\n",
    "print(\"Download ENEM microdata from https://www.gov.br/inep/pt-br/acesso-a-informacao/dados-abertos/microdados/enem.\")\n",
    "enem_microdata_path = \"C:/Users/pedro/Downloads/TRI/microdados\"\n",
    "\n",
    "years = [2019, 2020, 2021, 2022]\n",
    "for year in years:\n",
    "    assert os.path.exists(f\"{enem_microdata_path}/microdados_enem_{year}\") , f\"ENEM microdata for year {year} NOT found!\"\n",
    "    print(f\"ENEM microdata for year {year} found!\")\n"
   ]
  },
  {
   "cell_type": "code",
   "execution_count": 33,
   "id": "ec56a9ab-717e-408e-bd77-ac4d9a0f1ce3",
   "metadata": {},
   "outputs": [],
   "source": [
    "import pandas as pd\n",
    "\n",
    "# This is the function you want to call.\n",
    "# 'response_pattern_filepath' must have a column RESPONSE_PATTERN containing 0's and 1's.\n",
    "# And also a column CO_PROVA containing the ENEM exam code.\n",
    "# 'itens_prova_filepath' must point to ENEM's official file that contains IRT params, e.g, ITENS_PROVA_2022.csv\n",
    "\n",
    "def run_R_IRT_script(response_pattern_filepath, itens_prova_filepath):\n",
    "    # Read the content of the R script file\n",
    "    r_script_file = \"fit_irt.R\"\n",
    "    with open(r_script_file, 'r') as file:\n",
    "        r_script = file.read()\n",
    "    \n",
    "    robjects.r.assign('response_pattern_filepath', response_pattern_filepath)\n",
    "    robjects.r.assign('file_itens_prova', itens_prova_filepath)\n",
    "    robjects.r(r_script)\n",
    "\n"
   ]
  },
  {
   "cell_type": "code",
   "execution_count": 34,
   "id": "5d85c994-0e55-4278-a465-c1e42b3aba40",
   "metadata": {},
   "outputs": [],
   "source": [
    "\n",
    "# This function reads a file such as exp_MT_2022_mistral_simple-zero-shot_bits_4_count_24.zip\n",
    "# and gets theta IRT params.\n",
    "def run_R_IRT_from(filepath):\n",
    "\n",
    "    if \"2022\" in filepath:\n",
    "        YEAR = \"2022\"\n",
    "    elif \"2021\" in filepath:\n",
    "        YEAR = \"2021\"\n",
    "    elif \"2020\" in filepath:\n",
    "        YEAR = \"2020\"\n",
    "    elif \"2019\" in filepath:\n",
    "        YEAR = \"2019\"\n",
    "    else:\n",
    "        raise Exception(f\"YEAR not found in {filepath}\")\n",
    "\n",
    "    file_itens_prova = f\"{enem_microdata_path}/microdados_enem_{YEAR}/DADOS/ITENS_PROVA_{YEAR}.csv\"\n",
    "\n",
    "    run_R_IRT_script( f\"{filepath}/aggregated/majority_sample.csv\", file_itens_prova)\n",
    "    run_R_IRT_script( f\"{filepath}/aggregated/samples.csv\", file_itens_prova)\n",
    "    run_R_IRT_script( f\"{filepath}/aggregated/random_samples.csv\", file_itens_prova)\n",
    "\n",
    "    thetas_df = pd.read_csv(f\"{filepath}/aggregated/samples_with_theta.csv\")\n",
    "    thetas_df.sort_values(by=['IRT_SCORE', 'CTT_SCORE'], ascending=False).to_csv(f\"{filepath}/aggregated/samples_with_theta.csv\")\n",
    "    \n",
    "    thetas_random_df = pd.read_csv(f\"{filepath}/aggregated/random_samples_with_theta.csv\")\n",
    "    thetas_random_df.sort_values(by=['IRT_SCORE', 'CTT_SCORE'], ascending=False).to_csv(f\"{filepath}/aggregated/random_samples_with_theta.csv\")\n",
    "    print(\"thetas.csv finished! rows:\", thetas_df.shape[0])\n",
    "\n",
    "    #average_df = thetas_df.groupby('CTT_SCORE')['IRT_SCORE'].agg({'Value': ['mean', 'median', 'min', 'max']})\n",
    "\n",
    "    average_df = thetas_df.groupby('CTT_SCORE')['IRT_SCORE'].mean().reset_index()\n",
    "    average_random_df = thetas_random_df.groupby('CTT_SCORE')['IRT_SCORE'].mean().reset_index()\n",
    "    \n",
    "    return thetas_df, average_df, thetas_random_df, average_random_df"
   ]
  },
  {
   "cell_type": "code",
   "execution_count": 35,
   "id": "f3ea9ed9-55ef-4599-a33e-71dfbac58f05",
   "metadata": {},
   "outputs": [],
   "source": [
    "import os\n",
    "import zipfile\n",
    "import tempfile\n",
    "import random\n",
    "import string\n",
    "from pathlib import Path\n",
    "\n",
    "def compute_everything(source_directory, target_directory):\n",
    "    # Get a list of all files in the specified directory\n",
    "    file_list = os.listdir(source_directory)\n",
    "    #print(file_list)\n",
    "\n",
    "    for file_name in file_list:\n",
    "        # Check if the file is a zip file\n",
    "        if file_name.startswith(\"exp_\") and file_name.endswith(\".zip\"):\n",
    "            #print('file_name', file_name)\n",
    "            zip_path = os.path.join(source_directory, file_name)\n",
    "\n",
    "            # exp_LC_pt-br_2022_mistral_simple-zero-shot_bits_4_count_14.zip\n",
    "            (exp, exam, language, year, llm, prompt, b, bits, c, shuffle_count) = file_name.split(\"_\")\n",
    "            print(file_name, ':', 'exam', exam, 'language', language, 'year', year, 'prompt', prompt, 'bits', bits, 'shuffle count', shuffle_count)\n",
    "\n",
    "            Path(f\"{target_directory}/{exam}\").mkdir(parents=True, exist_ok=True)\n",
    "            Path(f\"{target_directory}/{exam}/{year}\").mkdir(parents=True, exist_ok=True)\n",
    "            Path(f\"{target_directory}/{exam}/{year}/{llm}\").mkdir(parents=True, exist_ok=True)\n",
    "            Path(f\"{target_directory}/{exam}/{year}/{llm}/{prompt}\").mkdir(parents=True, exist_ok=True)\n",
    "\n",
    "            full_target_directory = f\"{target_directory}/{exam}/{year}/{llm}/{prompt}\" \n",
    "            #print('Will write to', full_target_directory)\n",
    "\n",
    "            if os.path.exists(f\"{full_target_directory}/aggregated/samples_with_theta.csv\"):\n",
    "                print(full_target_directory, ' already exists, skipping.\\n')\n",
    "                continue\n",
    "                \n",
    "            # Create a ZipFile object\n",
    "            with zipfile.ZipFile(zip_path, 'r') as zip_ref:\n",
    "                # Extract the contents to the temporary directory\n",
    "                zip_ref.extractall(full_target_directory)\n",
    "                print(f\"Files extracted to: {full_target_directory}\")\n",
    "                \n",
    "                thetas_df, average_df, thetas_random_df, average_random_df = run_R_IRT_from(full_target_directory)\n",
    "                average_df.to_csv(full_target_directory + \"/aggregated/average_theta_by_score_sample.csv\")\n",
    "                average_random_df.to_csv(full_target_directory + \"/aggregated/average_theta_by_score_random_sample.csv\")\n"
   ]
  },
  {
   "cell_type": "code",
   "execution_count": 36,
   "id": "8c1276b1-245a-403d-a248-e9cc5011e513",
   "metadata": {},
   "outputs": [
    {
     "name": "stdout",
     "output_type": "stream",
     "text": [
      "Reading LLM responses from C:/Users/pedro/Downloads/TRI/test_responses_llms/ZIPS/ALL and generating IRT scores into C:/Users/pedro/Downloads/TRI/test_responses_llms/EXP\n",
      "\n",
      "exp_CH_pt-br_2020_llama2_simple-zero-shot_bits_4_count_1.zip : exam CH language pt-br year 2020 prompt simple-zero-shot bits 4 shuffle count 1.zip\n",
      "C:/Users/pedro/Downloads/TRI/test_responses_llms/EXP/CH/2020/llama2/simple-zero-shot  already exists, skipping.\n",
      "\n",
      "exp_CH_pt-br_2020_mistral_paper-nunes-2023-zero-shot_bits_4_count_10.zip : exam CH language pt-br year 2020 prompt paper-nunes-2023-zero-shot bits 4 shuffle count 10.zip\n",
      "C:/Users/pedro/Downloads/TRI/test_responses_llms/EXP/CH/2020/mistral/paper-nunes-2023-zero-shot  already exists, skipping.\n",
      "\n",
      "exp_CH_pt-br_2020_mistral_simple-zero-shot_bits_4_count_10.zip : exam CH language pt-br year 2020 prompt simple-zero-shot bits 4 shuffle count 10.zip\n",
      "C:/Users/pedro/Downloads/TRI/test_responses_llms/EXP/CH/2020/mistral/simple-zero-shot  already exists, skipping.\n",
      "\n",
      "exp_CH_pt-br_2021_llama2_simple-zero-shot_bits_4_count_1.zip : exam CH language pt-br year 2021 prompt simple-zero-shot bits 4 shuffle count 1.zip\n",
      "C:/Users/pedro/Downloads/TRI/test_responses_llms/EXP/CH/2021/llama2/simple-zero-shot  already exists, skipping.\n",
      "\n",
      "exp_CH_pt-br_2021_mistral_paper-nunes-2023-zero-shot_bits_4_count_10.zip : exam CH language pt-br year 2021 prompt paper-nunes-2023-zero-shot bits 4 shuffle count 10.zip\n",
      "C:/Users/pedro/Downloads/TRI/test_responses_llms/EXP/CH/2021/mistral/paper-nunes-2023-zero-shot  already exists, skipping.\n",
      "\n",
      "exp_CH_pt-br_2021_mistral_simple-zero-shot_bits_4_count_10.zip : exam CH language pt-br year 2021 prompt simple-zero-shot bits 4 shuffle count 10.zip\n",
      "C:/Users/pedro/Downloads/TRI/test_responses_llms/EXP/CH/2021/mistral/simple-zero-shot  already exists, skipping.\n",
      "\n",
      "exp_CH_pt-br_2022_llama2_simple-zero-shot_bits_4_count_1.zip : exam CH language pt-br year 2022 prompt simple-zero-shot bits 4 shuffle count 1.zip\n",
      "C:/Users/pedro/Downloads/TRI/test_responses_llms/EXP/CH/2022/llama2/simple-zero-shot  already exists, skipping.\n",
      "\n",
      "exp_CH_pt-br_2022_mistral_paper-nunes-2023-zero-shot_bits_4_count_10.zip : exam CH language pt-br year 2022 prompt paper-nunes-2023-zero-shot bits 4 shuffle count 10.zip\n",
      "C:/Users/pedro/Downloads/TRI/test_responses_llms/EXP/CH/2022/mistral/paper-nunes-2023-zero-shot  already exists, skipping.\n",
      "\n",
      "exp_CH_pt-br_2022_mistral_simple-zero-shot_bits_4_count_24.zip : exam CH language pt-br year 2022 prompt simple-zero-shot bits 4 shuffle count 24.zip\n",
      "C:/Users/pedro/Downloads/TRI/test_responses_llms/EXP/CH/2022/mistral/simple-zero-shot  already exists, skipping.\n",
      "\n",
      "exp_CN_pt-br_2022_mistral_simple-zero-shot_bits_4_count_27.zip : exam CN language pt-br year 2022 prompt simple-zero-shot bits 4 shuffle count 27.zip\n",
      "C:/Users/pedro/Downloads/TRI/test_responses_llms/EXP/CN/2022/mistral/simple-zero-shot  already exists, skipping.\n",
      "\n",
      "exp_LC_pt-br_2022_mistral_simple-zero-shot_bits_4_count_14.zip : exam LC language pt-br year 2022 prompt simple-zero-shot bits 4 shuffle count 14.zip\n",
      "Files extracted to: C:/Users/pedro/Downloads/TRI/test_responses_llms/EXP/LC/2022/mistral/simple-zero-shot\n",
      "[1]b' \"\\x02\\xff\\xfeRunning...\\x03\\xff\\xfe\"'\n",
      "[1]b' \"\\x02\\xff\\xfeLoaded item params\\x03\\xff\\xfe\"'\n",
      "[1]b' \"\\x02\\xff\\xfefit_irt_params.csv Written.\\x03\\xff\\xfe\"'\n",
      "[1]b' \"\\x02\\xff\\xfeLoading response patterns...\\x03\\xff\\xfe\"'\n",
      "[1]b' \"\\x02\\xff\\xfeColnames Response Patterns\\x03\\xff\\xfe\"'\n",
      "[1]b' \"\\x02\\xff\\xfeDimensions response patterns\\x03\\xff\\xfe\"'\n",
      "[1]b' \"\\x02\\xff\\xfeLOADED MODEL\\x03\\xff\\xfe\"'\n"
     ]
    },
    {
     "name": "stderr",
     "output_type": "stream",
     "text": [
      "R[write to console]: Error in dimnames(x) <- dn : \n",
      "  length of 'dimnames' [2] not equal to array extent\n",
      "\n"
     ]
    },
    {
     "ename": "RRuntimeError",
     "evalue": "Error in dimnames(x) <- dn : \n  length of 'dimnames' [2] not equal to array extent\n",
     "output_type": "error",
     "traceback": [
      "\u001b[1;31m---------------------------------------------------------------------------\u001b[0m",
      "\u001b[1;31mRRuntimeError\u001b[0m                             Traceback (most recent call last)",
      "Cell \u001b[1;32mIn[36], line 6\u001b[0m\n\u001b[0;32m      2\u001b[0m target_directory_path \u001b[38;5;241m=\u001b[39m \u001b[38;5;124m\"\u001b[39m\u001b[38;5;124mC:/Users/pedro/Downloads/TRI/test_responses_llms/EXP\u001b[39m\u001b[38;5;124m\"\u001b[39m\n\u001b[0;32m      4\u001b[0m \u001b[38;5;28mprint\u001b[39m(\u001b[38;5;124mf\u001b[39m\u001b[38;5;124m\"\u001b[39m\u001b[38;5;124mReading LLM responses from \u001b[39m\u001b[38;5;132;01m{\u001b[39;00msource_directory_path\u001b[38;5;132;01m}\u001b[39;00m\u001b[38;5;124m and generating IRT scores into \u001b[39m\u001b[38;5;132;01m{\u001b[39;00mtarget_directory_path\u001b[38;5;132;01m}\u001b[39;00m\u001b[38;5;130;01m\\n\u001b[39;00m\u001b[38;5;124m\"\u001b[39m)\n\u001b[1;32m----> 6\u001b[0m \u001b[43mcompute_everything\u001b[49m\u001b[43m(\u001b[49m\u001b[43msource_directory_path\u001b[49m\u001b[43m,\u001b[49m\u001b[43m \u001b[49m\u001b[43mtarget_directory_path\u001b[49m\u001b[43m)\u001b[49m\n\u001b[0;32m      8\u001b[0m \u001b[38;5;28mprint\u001b[39m(\u001b[38;5;124m\"\u001b[39m\u001b[38;5;124mFINISHED!\u001b[39m\u001b[38;5;124m\"\u001b[39m)\n",
      "Cell \u001b[1;32mIn[35], line 41\u001b[0m, in \u001b[0;36mcompute_everything\u001b[1;34m(source_directory, target_directory)\u001b[0m\n\u001b[0;32m     38\u001b[0m zip_ref\u001b[38;5;241m.\u001b[39mextractall(full_target_directory)\n\u001b[0;32m     39\u001b[0m \u001b[38;5;28mprint\u001b[39m(\u001b[38;5;124mf\u001b[39m\u001b[38;5;124m\"\u001b[39m\u001b[38;5;124mFiles extracted to: \u001b[39m\u001b[38;5;132;01m{\u001b[39;00mfull_target_directory\u001b[38;5;132;01m}\u001b[39;00m\u001b[38;5;124m\"\u001b[39m)\n\u001b[1;32m---> 41\u001b[0m thetas_df, average_df, thetas_random_df, average_random_df \u001b[38;5;241m=\u001b[39m \u001b[43mrun_R_IRT_from\u001b[49m\u001b[43m(\u001b[49m\u001b[43mfull_target_directory\u001b[49m\u001b[43m)\u001b[49m\n\u001b[0;32m     42\u001b[0m average_df\u001b[38;5;241m.\u001b[39mto_csv(full_target_directory \u001b[38;5;241m+\u001b[39m \u001b[38;5;124m\"\u001b[39m\u001b[38;5;124m/aggregated/average_theta_by_score_sample.csv\u001b[39m\u001b[38;5;124m\"\u001b[39m)\n\u001b[0;32m     43\u001b[0m average_random_df\u001b[38;5;241m.\u001b[39mto_csv(full_target_directory \u001b[38;5;241m+\u001b[39m \u001b[38;5;124m\"\u001b[39m\u001b[38;5;124m/aggregated/average_theta_by_score_random_sample.csv\u001b[39m\u001b[38;5;124m\"\u001b[39m)\n",
      "Cell \u001b[1;32mIn[34], line 18\u001b[0m, in \u001b[0;36mrun_R_IRT_from\u001b[1;34m(filepath)\u001b[0m\n\u001b[0;32m     14\u001b[0m     \u001b[38;5;28;01mraise\u001b[39;00m \u001b[38;5;167;01mException\u001b[39;00m(\u001b[38;5;124mf\u001b[39m\u001b[38;5;124m\"\u001b[39m\u001b[38;5;124mYEAR not found in \u001b[39m\u001b[38;5;132;01m{\u001b[39;00mfilepath\u001b[38;5;132;01m}\u001b[39;00m\u001b[38;5;124m\"\u001b[39m)\n\u001b[0;32m     16\u001b[0m file_itens_prova \u001b[38;5;241m=\u001b[39m \u001b[38;5;124mf\u001b[39m\u001b[38;5;124m\"\u001b[39m\u001b[38;5;132;01m{\u001b[39;00menem_microdata_path\u001b[38;5;132;01m}\u001b[39;00m\u001b[38;5;124m/microdados_enem_\u001b[39m\u001b[38;5;132;01m{\u001b[39;00mYEAR\u001b[38;5;132;01m}\u001b[39;00m\u001b[38;5;124m/DADOS/ITENS_PROVA_\u001b[39m\u001b[38;5;132;01m{\u001b[39;00mYEAR\u001b[38;5;132;01m}\u001b[39;00m\u001b[38;5;124m.csv\u001b[39m\u001b[38;5;124m\"\u001b[39m\n\u001b[1;32m---> 18\u001b[0m \u001b[43mrun_R_IRT_script\u001b[49m\u001b[43m(\u001b[49m\u001b[43m \u001b[49m\u001b[38;5;124;43mf\u001b[39;49m\u001b[38;5;124;43m\"\u001b[39;49m\u001b[38;5;132;43;01m{\u001b[39;49;00m\u001b[43mfilepath\u001b[49m\u001b[38;5;132;43;01m}\u001b[39;49;00m\u001b[38;5;124;43m/aggregated/majority_sample.csv\u001b[39;49m\u001b[38;5;124;43m\"\u001b[39;49m\u001b[43m,\u001b[49m\u001b[43m \u001b[49m\u001b[43mfile_itens_prova\u001b[49m\u001b[43m)\u001b[49m\n\u001b[0;32m     19\u001b[0m run_R_IRT_script( \u001b[38;5;124mf\u001b[39m\u001b[38;5;124m\"\u001b[39m\u001b[38;5;132;01m{\u001b[39;00mfilepath\u001b[38;5;132;01m}\u001b[39;00m\u001b[38;5;124m/aggregated/samples.csv\u001b[39m\u001b[38;5;124m\"\u001b[39m, file_itens_prova)\n\u001b[0;32m     20\u001b[0m run_R_IRT_script( \u001b[38;5;124mf\u001b[39m\u001b[38;5;124m\"\u001b[39m\u001b[38;5;132;01m{\u001b[39;00mfilepath\u001b[38;5;132;01m}\u001b[39;00m\u001b[38;5;124m/aggregated/random_samples.csv\u001b[39m\u001b[38;5;124m\"\u001b[39m, file_itens_prova)\n",
      "Cell \u001b[1;32mIn[33], line 16\u001b[0m, in \u001b[0;36mrun_R_IRT_script\u001b[1;34m(response_pattern_filepath, itens_prova_filepath)\u001b[0m\n\u001b[0;32m     14\u001b[0m robjects\u001b[38;5;241m.\u001b[39mr\u001b[38;5;241m.\u001b[39massign(\u001b[38;5;124m'\u001b[39m\u001b[38;5;124mresponse_pattern_filepath\u001b[39m\u001b[38;5;124m'\u001b[39m, response_pattern_filepath)\n\u001b[0;32m     15\u001b[0m robjects\u001b[38;5;241m.\u001b[39mr\u001b[38;5;241m.\u001b[39massign(\u001b[38;5;124m'\u001b[39m\u001b[38;5;124mfile_itens_prova\u001b[39m\u001b[38;5;124m'\u001b[39m, itens_prova_filepath)\n\u001b[1;32m---> 16\u001b[0m \u001b[43mrobjects\u001b[49m\u001b[38;5;241;43m.\u001b[39;49m\u001b[43mr\u001b[49m\u001b[43m(\u001b[49m\u001b[43mr_script\u001b[49m\u001b[43m)\u001b[49m\n",
      "File \u001b[1;32m~\\AppData\\Local\\Packages\\PythonSoftwareFoundation.Python.3.11_qbz5n2kfra8p0\\LocalCache\\local-packages\\Python311\\site-packages\\rpy2\\robjects\\__init__.py:501\u001b[0m, in \u001b[0;36mR.__call__\u001b[1;34m(self, string, invisible, print_r_warnings)\u001b[0m\n\u001b[0;32m    499\u001b[0m     invisible \u001b[38;5;241m=\u001b[39m \u001b[38;5;28mself\u001b[39m\u001b[38;5;241m.\u001b[39m_invisible\n\u001b[0;32m    500\u001b[0m \u001b[38;5;28;01mif\u001b[39;00m invisible:\n\u001b[1;32m--> 501\u001b[0m     res, visible \u001b[38;5;241m=\u001b[39m \u001b[43mrinterface\u001b[49m\u001b[38;5;241;43m.\u001b[39;49m\u001b[43mevalr_expr_with_visible\u001b[49m\u001b[43m(\u001b[49m\u001b[43m   \u001b[49m\u001b[38;5;66;43;03m# type: ignore\u001b[39;49;00m\n\u001b[0;32m    502\u001b[0m \u001b[43m        \u001b[49m\u001b[43mr_expr\u001b[49m\n\u001b[0;32m    503\u001b[0m \u001b[43m    \u001b[49m\u001b[43m)\u001b[49m\n\u001b[0;32m    504\u001b[0m     \u001b[38;5;28;01mif\u001b[39;00m \u001b[38;5;129;01mnot\u001b[39;00m visible[\u001b[38;5;241m0\u001b[39m]:  \u001b[38;5;66;03m# type: ignore\u001b[39;00m\n\u001b[0;32m    505\u001b[0m         res \u001b[38;5;241m=\u001b[39m \u001b[38;5;28;01mNone\u001b[39;00m\n",
      "File \u001b[1;32m~\\AppData\\Local\\Packages\\PythonSoftwareFoundation.Python.3.11_qbz5n2kfra8p0\\LocalCache\\local-packages\\Python311\\site-packages\\rpy2\\rinterface.py:196\u001b[0m, in \u001b[0;36mevalr_expr_with_visible\u001b[1;34m(expr, envir)\u001b[0m\n\u001b[0;32m    189\u001b[0m r_res \u001b[38;5;241m=\u001b[39m rmemory\u001b[38;5;241m.\u001b[39mprotect(\n\u001b[0;32m    190\u001b[0m         openrlib\u001b[38;5;241m.\u001b[39mrlib\u001b[38;5;241m.\u001b[39mR_tryEval(\n\u001b[0;32m    191\u001b[0m             r_call,\n\u001b[0;32m    192\u001b[0m             envir\u001b[38;5;241m.\u001b[39m__sexp__\u001b[38;5;241m.\u001b[39m_cdata,  \u001b[38;5;66;03m# call context.\u001b[39;00m\n\u001b[0;32m    193\u001b[0m             error_occured)\n\u001b[0;32m    194\u001b[0m )\n\u001b[0;32m    195\u001b[0m \u001b[38;5;28;01mif\u001b[39;00m error_occured[\u001b[38;5;241m0\u001b[39m]:\n\u001b[1;32m--> 196\u001b[0m     \u001b[38;5;28;01mraise\u001b[39;00m embedded\u001b[38;5;241m.\u001b[39mRRuntimeError(_rinterface\u001b[38;5;241m.\u001b[39m_geterrmessage())\n\u001b[0;32m    197\u001b[0m res \u001b[38;5;241m=\u001b[39m conversion\u001b[38;5;241m.\u001b[39m_cdata_to_rinterface(r_res)\n\u001b[0;32m    198\u001b[0m \u001b[38;5;28;01massert\u001b[39;00m \u001b[38;5;28misinstance\u001b[39m(res, ListSexpVector)\n",
      "\u001b[1;31mRRuntimeError\u001b[0m: Error in dimnames(x) <- dn : \n  length of 'dimnames' [2] not equal to array extent\n"
     ]
    }
   ],
   "source": [
    "source_directory_path = \"C:/Users/pedro/Downloads/TRI/test_responses_llms/ZIPS/ALL\"\n",
    "target_directory_path = \"C:/Users/pedro/Downloads/TRI/test_responses_llms/EXP\"\n",
    "\n",
    "print(f\"Reading LLM responses from {source_directory_path} and generating IRT scores into {target_directory_path}\\n\")\n",
    "\n",
    "compute_everything(source_directory_path, target_directory_path)\n",
    "\n",
    "print(\"FINISHED!\")"
   ]
  },
  {
   "cell_type": "code",
   "execution_count": null,
   "id": "54c0b293-abbf-4ac4-8ac9-dd1f5eaba947",
   "metadata": {},
   "outputs": [],
   "source": [
    "#df = pd.read_parquet(\"C:/Users/pedro/Downloads/TRI/test_responses_llms/ZIPS/ALL/GABRIEL/enem-experiments-results-processed.parquet\")\n",
    "\n",
    "#df.sort_values(by='CTT_SCORE', ascending=False)[['ENEM_EXAM','MODEL_NAME','MODEL_SIZE','LANGUAGE','CTT_SCORE']]\n",
    "\n",
    "#df.to_csv(\"C:/Users/pedro/Downloads/TRI/test_responses_llms/ZIPS/ALL/enem-experiments-results-processed.csv\")\n",
    "\n",
    "#df.head()"
   ]
  },
  {
   "cell_type": "code",
   "execution_count": null,
   "id": "e871ecc7-fce8-4d2d-ae4d-e1603f0365d9",
   "metadata": {},
   "outputs": [],
   "source": [
    "#df = pd.read_csv(\"C:/Users/pedro/Downloads/TRI/test_responses_llms/ZIPS/ALL/GABRIEL/enem-experiments-results-processed.csv\")\n",
    "#theta_df = pd.read_csv(\"C:/Users/pedro/Downloads/TRI/test_responses_llms/ZIPS/ALL/GABRIEL/thetas-enem-experiments-results-processed.csv\")\n",
    "\n",
    "#result_df = pd.concat([df, theta_df], axis=1, verify_integrity=False)\n",
    "#result_df = result_df.T.drop_duplicates().T\n",
    "\n",
    "#result_df.to_csv(\"C:/Users/pedro/Downloads/TRI/test_responses_llms/ZIPS/ALL/GABRIEL/experiments-with-irt.csv\")"
   ]
  },
  {
   "cell_type": "code",
   "execution_count": null,
   "id": "a55d8c09-8a7f-412f-a7af-2abbc2667561",
   "metadata": {},
   "outputs": [],
   "source": [
    "# 1062 CH\n",
    "# 1082 MT\n",
    "# 1092 CN\n",
    "\n",
    "\n",
    "#result_df[result_df['CO_PROVA'] == 1092][['ENEM_EXAM', 'MODEL_NAME', 'LANGUAGE', 'MODEL_SIZE','CTT_SCORE','IRT_SCORE', 'MEAN_CORRECT_B', 'MEAN_INCORRECT_B ']].sort_values(by='CTT_SCORE', ascending=False)\n",
    "\n"
   ]
  },
  {
   "cell_type": "code",
   "execution_count": null,
   "id": "eed1092f-d7fb-4e49-89e1-03e87e851cb9",
   "metadata": {},
   "outputs": [],
   "source": []
  }
 ],
 "metadata": {
  "kernelspec": {
   "display_name": "Python 3 (ipykernel)",
   "language": "python",
   "name": "python3"
  },
  "language_info": {
   "codemirror_mode": {
    "name": "ipython",
    "version": 3
   },
   "file_extension": ".py",
   "mimetype": "text/x-python",
   "name": "python",
   "nbconvert_exporter": "python",
   "pygments_lexer": "ipython3",
   "version": "3.11.7"
  }
 },
 "nbformat": 4,
 "nbformat_minor": 5
}
